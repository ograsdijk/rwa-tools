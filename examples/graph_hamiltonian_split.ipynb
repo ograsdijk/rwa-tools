{
 "cells": [
  {
   "cell_type": "code",
   "execution_count": 1,
   "id": "1d760150",
   "metadata": {},
   "outputs": [],
   "source": [
    "import matplotlib.pyplot as plt\n",
    "import networkx as nx\n",
    "\n",
    "from rwa_tools import (\n",
    "    create_coupling_graph,\n",
    "    split_into_independent_components,\n",
    "    create_hamiltonian_symbolic,\n",
    "    split_hamiltonian_by_components,\n",
    ")"
   ]
  },
  {
   "cell_type": "code",
   "execution_count": 2,
   "id": "34cfd27b",
   "metadata": {},
   "outputs": [],
   "source": [
    "nstates = 7\n",
    "couplings = [[(0, 2), (1, 2)], [(3, 5), (4, 5)]]\n",
    "hamiltonian = create_hamiltonian_symbolic(couplings, nstates)\n",
    "coupling_graph = create_coupling_graph(couplings, nstates=nstates)"
   ]
  },
  {
   "cell_type": "code",
   "execution_count": 3,
   "id": "38b779c7",
   "metadata": {},
   "outputs": [
    {
     "data": {
      "text/latex": [
       "$\\displaystyle \\left[\\begin{matrix}E_{0} & 0 & \\frac{a_{0} Ω_{0} e^{i t ω_{0}}}{2} & 0 & 0 & 0 & 0\\\\0 & E_{1} & \\frac{a_{1} Ω_{0} e^{i t ω_{0}}}{2} & 0 & 0 & 0 & 0\\\\\\frac{a_{0} e^{- i t ω_{0}} \\overline{Ω_{0}}}{2} & \\frac{a_{1} e^{- i t ω_{0}} \\overline{Ω_{0}}}{2} & E_{2} & 0 & 0 & 0 & 0\\\\0 & 0 & 0 & E_{3} & 0 & \\frac{a_{2} Ω_{1} e^{i t ω_{1}}}{2} & 0\\\\0 & 0 & 0 & 0 & E_{4} & \\frac{a_{3} Ω_{1} e^{i t ω_{1}}}{2} & 0\\\\0 & 0 & 0 & \\frac{a_{2} e^{- i t ω_{1}} \\overline{Ω_{1}}}{2} & \\frac{a_{3} e^{- i t ω_{1}} \\overline{Ω_{1}}}{2} & E_{5} & 0\\\\0 & 0 & 0 & 0 & 0 & 0 & E_{6}\\end{matrix}\\right]$"
      ],
      "text/plain": [
       "Matrix([\n",
       "[                             E0,                               0, a0*Ω0*exp(I*t*ω0)/2,                               0,                               0,                   0,  0],\n",
       "[                              0,                              E1, a1*Ω0*exp(I*t*ω0)/2,                               0,                               0,                   0,  0],\n",
       "[a0*exp(-I*t*ω0)*conjugate(Ω0)/2, a1*exp(-I*t*ω0)*conjugate(Ω0)/2,                  E2,                               0,                               0,                   0,  0],\n",
       "[                              0,                               0,                   0,                              E3,                               0, a2*Ω1*exp(I*t*ω1)/2,  0],\n",
       "[                              0,                               0,                   0,                               0,                              E4, a3*Ω1*exp(I*t*ω1)/2,  0],\n",
       "[                              0,                               0,                   0, a2*exp(-I*t*ω1)*conjugate(Ω1)/2, a3*exp(-I*t*ω1)*conjugate(Ω1)/2,                  E5,  0],\n",
       "[                              0,                               0,                   0,                               0,                               0,                   0, E6]])"
      ]
     },
     "execution_count": 3,
     "metadata": {},
     "output_type": "execute_result"
    }
   ],
   "source": [
    "hamiltonian.total"
   ]
  },
  {
   "cell_type": "code",
   "execution_count": 4,
   "id": "f605094e",
   "metadata": {},
   "outputs": [
    {
     "data": {
      "image/png": "[encoded data removed]",
      "text/plain": [
       "<Figure size 640x480 with 1 Axes>"
      ]
     },
     "metadata": {},
     "output_type": "display_data"
    }
   ],
   "source": [
    "fig, ax = plt.subplots()\n",
    "nx.draw(coupling_graph)"
   ]
  },
  {
   "cell_type": "code",
   "execution_count": 5,
   "id": "3940f894",
   "metadata": {},
   "outputs": [],
   "source": [
    "independent_graphs = split_into_independent_components(coupling_graph)"
   ]
  },
  {
   "cell_type": "code",
   "execution_count": 6,
   "id": "816268c0",
   "metadata": {},
   "outputs": [],
   "source": [
    "independent_hamiltonians = split_hamiltonian_by_components(\n",
    "    hamiltonian, independent_graphs\n",
    ")"
   ]
  },
  {
   "cell_type": "code",
   "execution_count": 7,
   "id": "67c87c02",
   "metadata": {},
   "outputs": [
    {
     "data": {
      "text/latex": [
       "$\\displaystyle \\left[\\begin{matrix}E_{0} & 0 & \\frac{a_{0} Ω_{0} e^{i t ω_{0}}}{2}\\\\0 & E_{1} & \\frac{a_{1} Ω_{0} e^{i t ω_{0}}}{2}\\\\\\frac{a_{0} e^{- i t ω_{0}} \\overline{Ω_{0}}}{2} & \\frac{a_{1} e^{- i t ω_{0}} \\overline{Ω_{0}}}{2} & E_{2}\\end{matrix}\\right]$"
      ],
      "text/plain": [
       "Matrix([\n",
       "[                             E0,                               0, a0*Ω0*exp(I*t*ω0)/2],\n",
       "[                              0,                              E1, a1*Ω0*exp(I*t*ω0)/2],\n",
       "[a0*exp(-I*t*ω0)*conjugate(Ω0)/2, a1*exp(-I*t*ω0)*conjugate(Ω0)/2,                  E2]])"
      ]
     },
     "execution_count": 7,
     "metadata": {},
     "output_type": "execute_result"
    }
   ],
   "source": [
    "independent_hamiltonians[0].total"
   ]
  },
  {
   "cell_type": "code",
   "execution_count": 8,
   "id": "865a79b5",
   "metadata": {},
   "outputs": [
    {
     "data": {
      "text/latex": [
       "$\\displaystyle \\left[\\begin{matrix}E_{3} & 0 & \\frac{a_{2} Ω_{1} e^{i t ω_{1}}}{2}\\\\0 & E_{4} & \\frac{a_{3} Ω_{1} e^{i t ω_{1}}}{2}\\\\\\frac{a_{2} e^{- i t ω_{1}} \\overline{Ω_{1}}}{2} & \\frac{a_{3} e^{- i t ω_{1}} \\overline{Ω_{1}}}{2} & E_{5}\\end{matrix}\\right]$"
      ],
      "text/plain": [
       "Matrix([\n",
       "[                             E3,                               0, a2*Ω1*exp(I*t*ω1)/2],\n",
       "[                              0,                              E4, a3*Ω1*exp(I*t*ω1)/2],\n",
       "[a2*exp(-I*t*ω1)*conjugate(Ω1)/2, a3*exp(-I*t*ω1)*conjugate(Ω1)/2,                  E5]])"
      ]
     },
     "execution_count": 8,
     "metadata": {},
     "output_type": "execute_result"
    }
   ],
   "source": [
    "independent_hamiltonians[1].total"
   ]
  }
 ],
 "metadata": {
  "kernelspec": {
   "display_name": ".venv",
   "language": "python",
   "name": "python3"
  },
  "language_info": {
   "codemirror_mode": {
    "name": "ipython",
    "version": 3
   },
   "file_extension": ".py",
   "mimetype": "text/x-python",
   "name": "python",
   "nbconvert_exporter": "python",
   "pygments_lexer": "ipython3",
   "version": "3.11.5"
  }
 },
 "nbformat": 4,
 "nbformat_minor": 5
}
